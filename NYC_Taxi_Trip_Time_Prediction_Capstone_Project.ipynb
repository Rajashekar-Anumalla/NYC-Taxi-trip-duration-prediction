{
  "nbformat": 4,
  "nbformat_minor": 0,
  "metadata": {
    "colab": {
      "name": "NYC Taxi Trip Time Prediction - Capstone Project.ipynb",
      "provenance": [],
      "collapsed_sections": [],
      "include_colab_link": true
    },
    "kernelspec": {
      "display_name": "Python 3",
      "language": "python",
      "name": "python3"
    },
    "language_info": {
      "codemirror_mode": {
        "name": "ipython",
        "version": 3
      },
      "file_extension": ".py",
      "mimetype": "text/x-python",
      "name": "python",
      "nbconvert_exporter": "python",
      "pygments_lexer": "ipython3",
      "version": "3.6.6"
    }
  },
  "cells": [
    {
      "cell_type": "markdown",
      "metadata": {
        "id": "view-in-github",
        "colab_type": "text"
      },
      "source": [
        "<a href=\"https://colab.research.google.com/github/Rajashekar-Anumalla/NYC-Taxi-trip-duration-prediction/blob/main/NYC_Taxi_Trip_Time_Prediction_Capstone_Project.ipynb\" target=\"_parent\"><img src=\"https://colab.research.google.com/assets/colab-badge.svg\" alt=\"Open In Colab\"/></a>"
      ]
    },
    {
      "cell_type": "markdown",
      "metadata": {
        "id": "tOGC-qoyhJeX"
      },
      "source": [
        "# <b><u> Project Title : Taxi trip time Prediction : Predicting total ride duration of taxi trips in New York City</u></b>"
      ]
    },
    {
      "cell_type": "markdown",
      "metadata": {
        "id": "Y06xIdG26kRF"
      },
      "source": [
        "## <b> Problem Description </b>\n",
        "\n",
        "### Your task is to build a model that predicts the total ride duration of taxi trips in New York City. Your primary dataset is one released by the NYC Taxi and Limousine Commission, which includes pickup time, geo-coordinates, number of passengers, and several other variables."
      ]
    },
    {
      "cell_type": "markdown",
      "metadata": {
        "id": "WWeU1f9bwqQq"
      },
      "source": [
        "## <b> Data Description </b>\n",
        "\n",
        "### The dataset is based on the 2016 NYC Yellow Cab trip record data made available in Big Query on Google Cloud Platform. The data was originally published by the NYC Taxi and Limousine Commission (TLC). The data was sampled and cleaned for the purposes of this project. Based on individual trip attributes, you should predict the duration of each trip in the test set.\n",
        "\n",
        "### <b>NYC Taxi Data.csv</b> - the training set (contains 1458644 trip records)\n",
        "\n",
        "\n",
        "### Data fields\n",
        "* #### id - a unique identifier for each trip\n",
        "* #### vendor_id - a code indicating the provider associated with the trip record\n",
        "* #### pickup_datetime - date and time when the meter was engaged\n",
        "* #### dropoff_datetime - date and time when the meter was disengaged\n",
        "* #### passenger_count - the number of passengers in the vehicle (driver entered value)\n",
        "* #### pickup_longitude - the longitude where the meter was engaged\n",
        "* #### pickup_latitude - the latitude where the meter was engaged\n",
        "* #### dropoff_longitude - the longitude where the meter was disengaged\n",
        "* #### dropoff_latitude - the latitude where the meter was disengaged\n",
        "* #### store_and_fwd_flag - This flag indicates whether the trip record was held in vehicle memory before sending to the vendor because the vehicle did not have a connection to the server - Y=store and forward; N=not a store and forward trip\n",
        "* #### trip_duration - duration of the trip in seconds"
      ]
    },
    {
      "cell_type": "markdown",
      "metadata": {
        "id": "Vj1YQILGVO6I"
      },
      "source": [
        "# Importing Files and Libraries as required"
      ]
    },
    {
      "cell_type": "code",
      "metadata": {
        "colab": {
          "base_uri": "https://localhost:8080/"
        },
        "id": "dByMsuzT8Tnw",
        "outputId": "de7e6ea4-abee-4b5c-fe91-0abbed5a72bf"
      },
      "source": [
        "from google.colab import drive\n",
        "drive.mount('/content/drive')"
      ],
      "execution_count": 101,
      "outputs": [
        {
          "output_type": "stream",
          "name": "stdout",
          "text": [
            "Drive already mounted at /content/drive; to attempt to forcibly remount, call drive.mount(\"/content/drive\", force_remount=True).\n"
          ]
        }
      ]
    },
    {
      "cell_type": "code",
      "metadata": {
        "id": "pJHVvDuM4bVM"
      },
      "source": [
        "import pandas as pd\n",
        "import numpy as np\n",
        "import seaborn as sns\n",
        "from matplotlib import pyplot as plt"
      ],
      "execution_count": 102,
      "outputs": []
    },
    {
      "cell_type": "code",
      "metadata": {
        "id": "pAoJmUf04eMs",
        "colab": {
          "base_uri": "https://localhost:8080/",
          "height": 307
        },
        "outputId": "7976082c-80eb-4480-e230-ae402c10e378"
      },
      "source": [
        "data = pd.read_csv('/content/drive/MyDrive/Colab Notebooks/Projects/Capstone_project_Two/NYC Taxi Trip Time Prediction/Copy of Copy of NYC Taxi Data.csv')\n",
        "data.head(5)"
      ],
      "execution_count": 103,
      "outputs": [
        {
          "output_type": "execute_result",
          "data": {
            "text/html": [
              "<div>\n",
              "<style scoped>\n",
              "    .dataframe tbody tr th:only-of-type {\n",
              "        vertical-align: middle;\n",
              "    }\n",
              "\n",
              "    .dataframe tbody tr th {\n",
              "        vertical-align: top;\n",
              "    }\n",
              "\n",
              "    .dataframe thead th {\n",
              "        text-align: right;\n",
              "    }\n",
              "</style>\n",
              "<table border=\"1\" class=\"dataframe\">\n",
              "  <thead>\n",
              "    <tr style=\"text-align: right;\">\n",
              "      <th></th>\n",
              "      <th>id</th>\n",
              "      <th>vendor_id</th>\n",
              "      <th>pickup_datetime</th>\n",
              "      <th>dropoff_datetime</th>\n",
              "      <th>passenger_count</th>\n",
              "      <th>pickup_longitude</th>\n",
              "      <th>pickup_latitude</th>\n",
              "      <th>dropoff_longitude</th>\n",
              "      <th>dropoff_latitude</th>\n",
              "      <th>store_and_fwd_flag</th>\n",
              "      <th>trip_duration</th>\n",
              "    </tr>\n",
              "  </thead>\n",
              "  <tbody>\n",
              "    <tr>\n",
              "      <th>0</th>\n",
              "      <td>id2875421</td>\n",
              "      <td>2</td>\n",
              "      <td>2016-03-14 17:24:55</td>\n",
              "      <td>2016-03-14 17:32:30</td>\n",
              "      <td>1</td>\n",
              "      <td>-73.982155</td>\n",
              "      <td>40.767937</td>\n",
              "      <td>-73.964630</td>\n",
              "      <td>40.765602</td>\n",
              "      <td>N</td>\n",
              "      <td>455</td>\n",
              "    </tr>\n",
              "    <tr>\n",
              "      <th>1</th>\n",
              "      <td>id2377394</td>\n",
              "      <td>1</td>\n",
              "      <td>2016-06-12 00:43:35</td>\n",
              "      <td>2016-06-12 00:54:38</td>\n",
              "      <td>1</td>\n",
              "      <td>-73.980415</td>\n",
              "      <td>40.738564</td>\n",
              "      <td>-73.999481</td>\n",
              "      <td>40.731152</td>\n",
              "      <td>N</td>\n",
              "      <td>663</td>\n",
              "    </tr>\n",
              "    <tr>\n",
              "      <th>2</th>\n",
              "      <td>id3858529</td>\n",
              "      <td>2</td>\n",
              "      <td>2016-01-19 11:35:24</td>\n",
              "      <td>2016-01-19 12:10:48</td>\n",
              "      <td>1</td>\n",
              "      <td>-73.979027</td>\n",
              "      <td>40.763939</td>\n",
              "      <td>-74.005333</td>\n",
              "      <td>40.710087</td>\n",
              "      <td>N</td>\n",
              "      <td>2124</td>\n",
              "    </tr>\n",
              "    <tr>\n",
              "      <th>3</th>\n",
              "      <td>id3504673</td>\n",
              "      <td>2</td>\n",
              "      <td>2016-04-06 19:32:31</td>\n",
              "      <td>2016-04-06 19:39:40</td>\n",
              "      <td>1</td>\n",
              "      <td>-74.010040</td>\n",
              "      <td>40.719971</td>\n",
              "      <td>-74.012268</td>\n",
              "      <td>40.706718</td>\n",
              "      <td>N</td>\n",
              "      <td>429</td>\n",
              "    </tr>\n",
              "    <tr>\n",
              "      <th>4</th>\n",
              "      <td>id2181028</td>\n",
              "      <td>2</td>\n",
              "      <td>2016-03-26 13:30:55</td>\n",
              "      <td>2016-03-26 13:38:10</td>\n",
              "      <td>1</td>\n",
              "      <td>-73.973053</td>\n",
              "      <td>40.793209</td>\n",
              "      <td>-73.972923</td>\n",
              "      <td>40.782520</td>\n",
              "      <td>N</td>\n",
              "      <td>435</td>\n",
              "    </tr>\n",
              "  </tbody>\n",
              "</table>\n",
              "</div>"
            ],
            "text/plain": [
              "          id  vendor_id  ... store_and_fwd_flag trip_duration\n",
              "0  id2875421          2  ...                  N           455\n",
              "1  id2377394          1  ...                  N           663\n",
              "2  id3858529          2  ...                  N          2124\n",
              "3  id3504673          2  ...                  N           429\n",
              "4  id2181028          2  ...                  N           435\n",
              "\n",
              "[5 rows x 11 columns]"
            ]
          },
          "metadata": {},
          "execution_count": 103
        }
      ]
    },
    {
      "cell_type": "markdown",
      "metadata": {
        "id": "K0C4Y95xVbbs"
      },
      "source": [
        "## Overview over dataset (Knowing about data)"
      ]
    },
    {
      "cell_type": "code",
      "metadata": {
        "id": "tfo3PPPv4vJP",
        "colab": {
          "base_uri": "https://localhost:8080/",
          "height": 295
        },
        "outputId": "a88ee704-66cb-4360-8352-d10613bf6820"
      },
      "source": [
        "data.describe()"
      ],
      "execution_count": 104,
      "outputs": [
        {
          "output_type": "execute_result",
          "data": {
            "text/html": [
              "<div>\n",
              "<style scoped>\n",
              "    .dataframe tbody tr th:only-of-type {\n",
              "        vertical-align: middle;\n",
              "    }\n",
              "\n",
              "    .dataframe tbody tr th {\n",
              "        vertical-align: top;\n",
              "    }\n",
              "\n",
              "    .dataframe thead th {\n",
              "        text-align: right;\n",
              "    }\n",
              "</style>\n",
              "<table border=\"1\" class=\"dataframe\">\n",
              "  <thead>\n",
              "    <tr style=\"text-align: right;\">\n",
              "      <th></th>\n",
              "      <th>vendor_id</th>\n",
              "      <th>passenger_count</th>\n",
              "      <th>pickup_longitude</th>\n",
              "      <th>pickup_latitude</th>\n",
              "      <th>dropoff_longitude</th>\n",
              "      <th>dropoff_latitude</th>\n",
              "      <th>trip_duration</th>\n",
              "    </tr>\n",
              "  </thead>\n",
              "  <tbody>\n",
              "    <tr>\n",
              "      <th>count</th>\n",
              "      <td>1.458644e+06</td>\n",
              "      <td>1.458644e+06</td>\n",
              "      <td>1.458644e+06</td>\n",
              "      <td>1.458644e+06</td>\n",
              "      <td>1.458644e+06</td>\n",
              "      <td>1.458644e+06</td>\n",
              "      <td>1.458644e+06</td>\n",
              "    </tr>\n",
              "    <tr>\n",
              "      <th>mean</th>\n",
              "      <td>1.534950e+00</td>\n",
              "      <td>1.664530e+00</td>\n",
              "      <td>-7.397349e+01</td>\n",
              "      <td>4.075092e+01</td>\n",
              "      <td>-7.397342e+01</td>\n",
              "      <td>4.075180e+01</td>\n",
              "      <td>9.594923e+02</td>\n",
              "    </tr>\n",
              "    <tr>\n",
              "      <th>std</th>\n",
              "      <td>4.987772e-01</td>\n",
              "      <td>1.314242e+00</td>\n",
              "      <td>7.090186e-02</td>\n",
              "      <td>3.288119e-02</td>\n",
              "      <td>7.064327e-02</td>\n",
              "      <td>3.589056e-02</td>\n",
              "      <td>5.237432e+03</td>\n",
              "    </tr>\n",
              "    <tr>\n",
              "      <th>min</th>\n",
              "      <td>1.000000e+00</td>\n",
              "      <td>0.000000e+00</td>\n",
              "      <td>-1.219333e+02</td>\n",
              "      <td>3.435970e+01</td>\n",
              "      <td>-1.219333e+02</td>\n",
              "      <td>3.218114e+01</td>\n",
              "      <td>1.000000e+00</td>\n",
              "    </tr>\n",
              "    <tr>\n",
              "      <th>25%</th>\n",
              "      <td>1.000000e+00</td>\n",
              "      <td>1.000000e+00</td>\n",
              "      <td>-7.399187e+01</td>\n",
              "      <td>4.073735e+01</td>\n",
              "      <td>-7.399133e+01</td>\n",
              "      <td>4.073588e+01</td>\n",
              "      <td>3.970000e+02</td>\n",
              "    </tr>\n",
              "    <tr>\n",
              "      <th>50%</th>\n",
              "      <td>2.000000e+00</td>\n",
              "      <td>1.000000e+00</td>\n",
              "      <td>-7.398174e+01</td>\n",
              "      <td>4.075410e+01</td>\n",
              "      <td>-7.397975e+01</td>\n",
              "      <td>4.075452e+01</td>\n",
              "      <td>6.620000e+02</td>\n",
              "    </tr>\n",
              "    <tr>\n",
              "      <th>75%</th>\n",
              "      <td>2.000000e+00</td>\n",
              "      <td>2.000000e+00</td>\n",
              "      <td>-7.396733e+01</td>\n",
              "      <td>4.076836e+01</td>\n",
              "      <td>-7.396301e+01</td>\n",
              "      <td>4.076981e+01</td>\n",
              "      <td>1.075000e+03</td>\n",
              "    </tr>\n",
              "    <tr>\n",
              "      <th>max</th>\n",
              "      <td>2.000000e+00</td>\n",
              "      <td>9.000000e+00</td>\n",
              "      <td>-6.133553e+01</td>\n",
              "      <td>5.188108e+01</td>\n",
              "      <td>-6.133553e+01</td>\n",
              "      <td>4.392103e+01</td>\n",
              "      <td>3.526282e+06</td>\n",
              "    </tr>\n",
              "  </tbody>\n",
              "</table>\n",
              "</div>"
            ],
            "text/plain": [
              "          vendor_id  passenger_count  ...  dropoff_latitude  trip_duration\n",
              "count  1.458644e+06     1.458644e+06  ...      1.458644e+06   1.458644e+06\n",
              "mean   1.534950e+00     1.664530e+00  ...      4.075180e+01   9.594923e+02\n",
              "std    4.987772e-01     1.314242e+00  ...      3.589056e-02   5.237432e+03\n",
              "min    1.000000e+00     0.000000e+00  ...      3.218114e+01   1.000000e+00\n",
              "25%    1.000000e+00     1.000000e+00  ...      4.073588e+01   3.970000e+02\n",
              "50%    2.000000e+00     1.000000e+00  ...      4.075452e+01   6.620000e+02\n",
              "75%    2.000000e+00     2.000000e+00  ...      4.076981e+01   1.075000e+03\n",
              "max    2.000000e+00     9.000000e+00  ...      4.392103e+01   3.526282e+06\n",
              "\n",
              "[8 rows x 7 columns]"
            ]
          },
          "metadata": {},
          "execution_count": 104
        }
      ]
    },
    {
      "cell_type": "code",
      "metadata": {
        "id": "7hCcosRk4zHm",
        "colab": {
          "base_uri": "https://localhost:8080/"
        },
        "outputId": "a0e00337-610a-4b6f-e7fa-74fa6c66ef3d"
      },
      "source": [
        "data.info()"
      ],
      "execution_count": 105,
      "outputs": [
        {
          "output_type": "stream",
          "name": "stdout",
          "text": [
            "<class 'pandas.core.frame.DataFrame'>\n",
            "RangeIndex: 1458644 entries, 0 to 1458643\n",
            "Data columns (total 11 columns):\n",
            " #   Column              Non-Null Count    Dtype  \n",
            "---  ------              --------------    -----  \n",
            " 0   id                  1458644 non-null  object \n",
            " 1   vendor_id           1458644 non-null  int64  \n",
            " 2   pickup_datetime     1458644 non-null  object \n",
            " 3   dropoff_datetime    1458644 non-null  object \n",
            " 4   passenger_count     1458644 non-null  int64  \n",
            " 5   pickup_longitude    1458644 non-null  float64\n",
            " 6   pickup_latitude     1458644 non-null  float64\n",
            " 7   dropoff_longitude   1458644 non-null  float64\n",
            " 8   dropoff_latitude    1458644 non-null  float64\n",
            " 9   store_and_fwd_flag  1458644 non-null  object \n",
            " 10  trip_duration       1458644 non-null  int64  \n",
            "dtypes: float64(4), int64(3), object(4)\n",
            "memory usage: 122.4+ MB\n"
          ]
        }
      ]
    },
    {
      "cell_type": "code",
      "metadata": {
        "id": "7QaWnWMF43B2",
        "colab": {
          "base_uri": "https://localhost:8080/"
        },
        "outputId": "a648e0c8-f201-4d57-82d0-52affdc41821"
      },
      "source": [
        "## data here is clean and contains no missing values.\n",
        "data.isnull().sum()"
      ],
      "execution_count": 106,
      "outputs": [
        {
          "output_type": "execute_result",
          "data": {
            "text/plain": [
              "id                    0\n",
              "vendor_id             0\n",
              "pickup_datetime       0\n",
              "dropoff_datetime      0\n",
              "passenger_count       0\n",
              "pickup_longitude      0\n",
              "pickup_latitude       0\n",
              "dropoff_longitude     0\n",
              "dropoff_latitude      0\n",
              "store_and_fwd_flag    0\n",
              "trip_duration         0\n",
              "dtype: int64"
            ]
          },
          "metadata": {},
          "execution_count": 106
        }
      ]
    },
    {
      "cell_type": "code",
      "metadata": {
        "id": "WBiXiKtP46uc",
        "colab": {
          "base_uri": "https://localhost:8080/"
        },
        "outputId": "49a03c1f-c9c5-4d1e-f9a4-b19b0d72d1c9"
      },
      "source": [
        "##Checking for duplicates\n",
        "data.duplicated().any()"
      ],
      "execution_count": 107,
      "outputs": [
        {
          "output_type": "execute_result",
          "data": {
            "text/plain": [
              "False"
            ]
          },
          "metadata": {},
          "execution_count": 107
        }
      ]
    },
    {
      "cell_type": "code",
      "metadata": {
        "id": "WhgKPGw45M2U",
        "colab": {
          "base_uri": "https://localhost:8080/"
        },
        "outputId": "9cd841c2-b445-4dba-bdad-4898ca049354"
      },
      "source": [
        "## Size of the dataset\n",
        "data.shape"
      ],
      "execution_count": 108,
      "outputs": [
        {
          "output_type": "execute_result",
          "data": {
            "text/plain": [
              "(1458644, 11)"
            ]
          },
          "metadata": {},
          "execution_count": 108
        }
      ]
    },
    {
      "cell_type": "code",
      "metadata": {
        "id": "d3GlxkXKLWkI",
        "colab": {
          "base_uri": "https://localhost:8080/",
          "height": 386
        },
        "outputId": "bd9c4b65-5d0a-4de4-b4db-65a30d9453ce"
      },
      "source": [
        "## Trying to know about our target variable\n",
        "sns.displot(data['trip_duration'].sample(frac = 0.1, random_state = 42))"
      ],
      "execution_count": 109,
      "outputs": [
        {
          "output_type": "execute_result",
          "data": {
            "text/plain": [
              "<seaborn.axisgrid.FacetGrid at 0x7fe04e6517d0>"
            ]
          },
          "metadata": {},
          "execution_count": 109
        },
        {
          "output_type": "display_data",
          "data": {
            "image/png": "[encoded data removed]",
            "text/plain": [
              "<Figure size 360x360 with 1 Axes>"
            ]
          },
          "metadata": {
            "needs_background": "light"
          }
        }
      ]
    },
    {
      "cell_type": "code",
      "metadata": {
        "id": "jUeOeLGFfvE2",
        "colab": {
          "base_uri": "https://localhost:8080/",
          "height": 386
        },
        "outputId": "11b44c31-81d9-4216-aa7a-8c5e711ed0ff"
      },
      "source": [
        "## As in above case we cannot able to judge , \n",
        "##so we will apply log transformation and have a glance over it\n",
        "sns.displot(np.log1p(data['trip_duration']).sample(frac = 0.1, random_state = 42))"
      ],
      "execution_count": 110,
      "outputs": [
        {
          "output_type": "execute_result",
          "data": {
            "text/plain": [
              "<seaborn.axisgrid.FacetGrid at 0x7fe03a49d710>"
            ]
          },
          "metadata": {},
          "execution_count": 110
        },
        {
          "output_type": "display_data",
          "data": {
            "image/png": "[encoded data removed]",
            "text/plain": [
              "<Figure size 360x360 with 1 Axes>"
            ]
          },
          "metadata": {
            "needs_background": "light"
          }
        }
      ]
    },
    {
      "cell_type": "code",
      "metadata": {
        "id": "Wdq9rgFoxW0E",
        "colab": {
          "base_uri": "https://localhost:8080/"
        },
        "outputId": "dca7c3f3-29d8-4cf4-ab23-c617ad1c6a7d"
      },
      "source": [
        "## looking at trip duration values\n",
        "data['trip_duration'].value_counts()"
      ],
      "execution_count": 111,
      "outputs": [
        {
          "output_type": "execute_result",
          "data": {
            "text/plain": [
              "368      1624\n",
              "408      1584\n",
              "348      1582\n",
              "367      1581\n",
              "358      1577\n",
              "         ... \n",
              "85305       1\n",
              "83256       1\n",
              "83884       1\n",
              "6419        1\n",
              "8522        1\n",
              "Name: trip_duration, Length: 7417, dtype: int64"
            ]
          },
          "metadata": {},
          "execution_count": 111
        }
      ]
    },
    {
      "cell_type": "code",
      "metadata": {
        "id": "gfMtt05rxoR1",
        "colab": {
          "base_uri": "https://localhost:8080/"
        },
        "outputId": "c39e58d2-b9e4-4d42-8a83-04fe6b727637"
      },
      "source": [
        "##already we saw there are no missing values in any of the features \n",
        "##however again having a sight over it\n",
        "data['trip_duration'].isnull().sum()"
      ],
      "execution_count": 112,
      "outputs": [
        {
          "output_type": "execute_result",
          "data": {
            "text/plain": [
              "0"
            ]
          },
          "metadata": {},
          "execution_count": 112
        }
      ]
    },
    {
      "cell_type": "code",
      "metadata": {
        "id": "vkQpEUKf3SNS",
        "colab": {
          "base_uri": "https://localhost:8080/"
        },
        "outputId": "f20edf01-a446-4ec8-83ba-ead5383b11a4"
      },
      "source": [
        "## out of curosity checking the unique values of trip duration feature\n",
        "len(data['trip_duration'].unique())\n",
        "# sns.countplot(x=data['trip_duration'])"
      ],
      "execution_count": 113,
      "outputs": [
        {
          "output_type": "execute_result",
          "data": {
            "text/plain": [
              "7417"
            ]
          },
          "metadata": {},
          "execution_count": 113
        }
      ]
    },
    {
      "cell_type": "code",
      "metadata": {
        "id": "HErpYX5xMyWT"
      },
      "source": [
        "## Converting duration units from seconds to hours  *feature extraction*\n",
        "data['trip_duration_hour'] = data['trip_duration']/3600"
      ],
      "execution_count": 114,
      "outputs": []
    },
    {
      "cell_type": "code",
      "metadata": {
        "id": "6Gd9IE4HMesE",
        "colab": {
          "base_uri": "https://localhost:8080/"
        },
        "outputId": "02897101-a611-4480-cba9-515018f61422"
      },
      "source": [
        "round(data['trip_duration_hour'].nlargest(10),2)"
      ],
      "execution_count": 115,
      "outputs": [
        {
          "output_type": "execute_result",
          "data": {
            "text/plain": [
              "978383     979.52\n",
              "924150     618.78\n",
              "680594     569.33\n",
              "355003     538.82\n",
              "1234291     24.00\n",
              "295382      24.00\n",
              "73816       24.00\n",
              "59891       24.00\n",
              "1360439     24.00\n",
              "753765      23.99\n",
              "Name: trip_duration_hour, dtype: float64"
            ]
          },
          "metadata": {},
          "execution_count": 115
        }
      ]
    },
    {
      "cell_type": "code",
      "metadata": {
        "id": "f9-azKN3NVn8",
        "colab": {
          "base_uri": "https://localhost:8080/"
        },
        "outputId": "d52a9df7-e850-4121-fb49-c958b68a162d"
      },
      "source": [
        "## as we saw earlier there are some values in trip duration showing 1 sec\n",
        "## there is no possibliity of one second journey, Lets look how many records are there\n",
        "len(data[data['trip_duration']==1])"
      ],
      "execution_count": 116,
      "outputs": [
        {
          "output_type": "execute_result",
          "data": {
            "text/plain": [
              "33"
            ]
          },
          "metadata": {},
          "execution_count": 116
        }
      ]
    },
    {
      "cell_type": "code",
      "metadata": {
        "id": "mh9MRT39PGgn"
      },
      "source": [
        "## trying too drop the records who's trip duration is 1 second\n",
        "data = data[data['trip_duration'] != 1]"
      ],
      "execution_count": 117,
      "outputs": []
    },
    {
      "cell_type": "code",
      "metadata": {
        "id": "lcYCJx4APSRR",
        "colab": {
          "base_uri": "https://localhost:8080/"
        },
        "outputId": "ed34909a-43c0-43b8-fcc9-2eac75d547b6"
      },
      "source": [
        "## size of dataset after dropping some records\n",
        "data.shape"
      ],
      "execution_count": 118,
      "outputs": [
        {
          "output_type": "execute_result",
          "data": {
            "text/plain": [
              "(1458611, 12)"
            ]
          },
          "metadata": {},
          "execution_count": 118
        }
      ]
    },
    {
      "cell_type": "markdown",
      "metadata": {
        "id": "vW7nb3x0aJm6"
      },
      "source": [
        "## Feature Extraction\n",
        "\n",
        "### Here we tried to extract some usefull features  from already existing features"
      ]
    },
    {
      "cell_type": "code",
      "metadata": {
        "id": "vnPGB7wIQdho"
      },
      "source": [
        "## Converting below features data type into datatime as we observe them as strings\n",
        "data['pickup_datetime'] = pd.to_datetime(data['pickup_datetime'])\n",
        "data['dropoff_datetime'] = pd.to_datetime(data['dropoff_datetime'])"
      ],
      "execution_count": 119,
      "outputs": []
    },
    {
      "cell_type": "code",
      "metadata": {
        "id": "jJgcGcI9R-Uf"
      },
      "source": [
        "## Extracting required values i.e day, month\n",
        "data['pickup_day']=data['pickup_datetime'].dt.day_name()\n",
        "data['dropoff_day']=data['dropoff_datetime'].dt.day_name()\n",
        "data['pickup_month']=data['pickup_datetime'].dt.month\n",
        "data['dropoff_month']=data['dropoff_datetime'].dt.month"
      ],
      "execution_count": 120,
      "outputs": []
    },
    {
      "cell_type": "code",
      "metadata": {
        "id": "-31x-UEPbM9X",
        "colab": {
          "base_uri": "https://localhost:8080/"
        },
        "outputId": "5bdc98bc-9d6a-48c1-e7f5-891b8bdd3dac"
      },
      "source": [
        "## Looking at rides in each month\n",
        "data['pickup_month'].value_counts()"
      ],
      "execution_count": 121,
      "outputs": [
        {
          "output_type": "execute_result",
          "data": {
            "text/plain": [
              "3    256184\n",
              "4    251636\n",
              "5    248485\n",
              "2    238293\n",
              "6    234314\n",
              "1    229699\n",
              "Name: pickup_month, dtype: int64"
            ]
          },
          "metadata": {},
          "execution_count": 121
        }
      ]
    },
    {
      "cell_type": "code",
      "metadata": {
        "id": "ChBzsMZ1bicL",
        "colab": {
          "base_uri": "https://localhost:8080/"
        },
        "outputId": "913a1179-b32d-4315-919d-a9230b5ba58b"
      },
      "source": [
        "## in above we can see that there no rides after the month 6 june\n",
        "## lets look at dropoff in each month as well\n",
        "data['dropoff_month'].value_counts()\n",
        "\n",
        "## you can clear see difference in numbers this is because of some \n",
        "##rides duration are may be for mor than one day\n",
        "## as from below we can say that 127  rides were started in june and ended in july"
      ],
      "execution_count": 122,
      "outputs": [
        {
          "output_type": "execute_result",
          "data": {
            "text/plain": [
              "3    256130\n",
              "4    251627\n",
              "5    248553\n",
              "2    238285\n",
              "6    234241\n",
              "1    229648\n",
              "7       127\n",
              "Name: dropoff_month, dtype: int64"
            ]
          },
          "metadata": {},
          "execution_count": 122
        }
      ]
    },
    {
      "cell_type": "markdown",
      "metadata": {
        "id": "V1tgLxGndyqc"
      },
      "source": [
        "### Generation of features like Distance,speed\n",
        "#### as distance and speed are very much related with time (duration)"
      ]
    },
    {
      "cell_type": "code",
      "metadata": {
        "id": "Qkm-ArrveHcb"
      },
      "source": [
        "# we have latitude and longitude details to find distance \n",
        "## so we will use havesine formula to extract distance between pickup and dropoff locations\n",
        "\n",
        "from math import sqrt, cos, sin, asin, radians"
      ],
      "execution_count": 123,
      "outputs": []
    },
    {
      "cell_type": "code",
      "metadata": {
        "id": "WzZBjsQEe1Bi"
      },
      "source": [
        "## we here develop a function to calculate distance between to poinst on earth\n",
        "\n",
        "def haversine(data):\n",
        "  ## assign latitude and longitude values to variables\n",
        "  x1,y1 = data.pickup_latitude, data.pickup_longitude \n",
        "  x2,y2 = data.dropoff_latitude, data.dropoff_longitude\n",
        "  \n",
        "  ## raduis of the earth be 'r'\n",
        "  r= 3956.5 \n",
        "  # value is in miles (~6378 km)\n",
        "\n",
        "  dx = radians(x2 - x1)\n",
        "  dy = radians(y2 - y1)\n",
        "  x1 = radians(x1)\n",
        "  x2 = radians(x2)\n",
        "\n",
        "  # lets here calculate a piece of formula and store in variables for smplification\n",
        "\n",
        "  z = sin(dx/2)**2 + cos(x1)*cos(x2)*sin(dy/2)**2\n",
        "\n",
        "  a = 2*asin(sqrt(z))\n",
        "\n",
        "  ## this formula  from google search\n",
        "\n",
        "  return r*a\n",
        " ## the return value is distance between to given coordinates on earth"
      ],
      "execution_count": 124,
      "outputs": []
    },
    {
      "cell_type": "code",
      "metadata": {
        "id": "k5L-PajQiKP2"
      },
      "source": [
        "## creation of new feature \n",
        "data['distance'] = data.apply( lambda x: haversine(x), axis =1)"
      ],
      "execution_count": 125,
      "outputs": []
    },
    {
      "cell_type": "code",
      "metadata": {
        "id": "tHhtwHgNRHCC",
        "colab": {
          "base_uri": "https://localhost:8080/",
          "height": 307
        },
        "outputId": "64f208b8-153e-4424-aad7-e2099cbde91f"
      },
      "source": [
        "## now we will see the relation or pattern by comparing Distance with trip duration\n",
        "\n",
        "sns.scatterplot(x=data.distance, y=data.trip_duration)"
      ],
      "execution_count": 126,
      "outputs": [
        {
          "output_type": "execute_result",
          "data": {
            "text/plain": [
              "<matplotlib.axes._subplots.AxesSubplot at 0x7fe03a3c6810>"
            ]
          },
          "metadata": {},
          "execution_count": 126
        },
        {
          "output_type": "display_data",
          "data": {
            "image/png": "[encoded data removed]",
            "text/plain": [
              "<Figure size 432x288 with 1 Axes>"
            ]
          },
          "metadata": {
            "needs_background": "light"
          }
        }
      ]
    },
    {
      "cell_type": "code",
      "metadata": {
        "colab": {
          "base_uri": "https://localhost:8080/"
        },
        "id": "7ccak0UoaWb-",
        "outputId": "8144fe0f-ffc0-46e4-ee3a-4bb7446ac575"
      },
      "source": [
        "## checking wether distance zero have trip_duration zero or not\n",
        "data.loc[data.distance == 0]['trip_duration']"
      ],
      "execution_count": 127,
      "outputs": [
        {
          "output_type": "execute_result",
          "data": {
            "text/plain": [
              "246         227\n",
              "291        1109\n",
              "407         947\n",
              "702         580\n",
              "1620         27\n",
              "           ... \n",
              "1456399    1284\n",
              "1456627     127\n",
              "1456989     566\n",
              "1457114     632\n",
              "1457136     176\n",
              "Name: trip_duration, Length: 5886, dtype: int64"
            ]
          },
          "metadata": {},
          "execution_count": 127
        }
      ]
    },
    {
      "cell_type": "code",
      "metadata": {
        "colab": {
          "base_uri": "https://localhost:8080/"
        },
        "id": "aevy7nymkaVM",
        "outputId": "78aa18de-0ca2-429a-bf9f-9462f8b86d13"
      },
      "source": [
        "## so from about we have decided to replace all distance value with mean of that particular column\n",
        "data['distance'].replace(0, data['distance'].mean())"
      ],
      "execution_count": 128,
      "outputs": [
        {
          "output_type": "execute_result",
          "data": {
            "text/plain": [
              "0          0.930607\n",
              "1          1.121251\n",
              "2          3.965255\n",
              "3          0.922520\n",
              "4          0.738134\n",
              "             ...   \n",
              "1458639    0.760796\n",
              "1458640    3.757051\n",
              "1458641    4.859214\n",
              "1458642    0.678501\n",
              "1458643    0.704259\n",
              "Name: distance, Length: 1458611, dtype: float64"
            ]
          },
          "metadata": {},
          "execution_count": 128
        }
      ]
    },
    {
      "cell_type": "code",
      "metadata": {
        "id": "ChoJ7NxOqpmi"
      },
      "source": [
        "## feature speed extraction\n",
        "data['speed'] = data['distance'] / data['trip_duration_hour']"
      ],
      "execution_count": 129,
      "outputs": []
    },
    {
      "cell_type": "code",
      "metadata": {
        "colab": {
          "base_uri": "https://localhost:8080/",
          "height": 350
        },
        "id": "RZ7xmEWXr7iU",
        "outputId": "0dd7348c-3363-45ea-841e-f648d84635b2"
      },
      "source": [
        "## checking range of Speed feature\n",
        "sns.boxplot(data.speed)"
      ],
      "execution_count": 130,
      "outputs": [
        {
          "output_type": "stream",
          "name": "stderr",
          "text": [
            "/usr/local/lib/python3.7/dist-packages/seaborn/_decorators.py:43: FutureWarning: Pass the following variable as a keyword arg: x. From version 0.12, the only valid positional argument will be `data`, and passing other arguments without an explicit keyword will result in an error or misinterpretation.\n",
            "  FutureWarning\n"
          ]
        },
        {
          "output_type": "execute_result",
          "data": {
            "text/plain": [
              "<matplotlib.axes._subplots.AxesSubplot at 0x7fe039a512d0>"
            ]
          },
          "metadata": {},
          "execution_count": 130
        },
        {
          "output_type": "display_data",
          "data": {
            "image/png": "[encoded data removed]",
            "text/plain": [
              "<Figure size 432x288 with 1 Axes>"
            ]
          },
          "metadata": {
            "needs_background": "light"
          }
        }
      ]
    },
    {
      "cell_type": "code",
      "metadata": {
        "colab": {
          "base_uri": "https://localhost:8080/",
          "height": 350
        },
        "id": "NSFt8pVTsnHN",
        "outputId": "9d4bac20-2692-45ce-e86f-e126278e8557"
      },
      "source": [
        "sns.scatterplot(data.distance,data.trip_duration_hour)"
      ],
      "execution_count": 131,
      "outputs": [
        {
          "output_type": "stream",
          "name": "stderr",
          "text": [
            "/usr/local/lib/python3.7/dist-packages/seaborn/_decorators.py:43: FutureWarning: Pass the following variables as keyword args: x, y. From version 0.12, the only valid positional argument will be `data`, and passing other arguments without an explicit keyword will result in an error or misinterpretation.\n",
            "  FutureWarning\n"
          ]
        },
        {
          "output_type": "execute_result",
          "data": {
            "text/plain": [
              "<matplotlib.axes._subplots.AxesSubplot at 0x7fe04e867a10>"
            ]
          },
          "metadata": {},
          "execution_count": 131
        },
        {
          "output_type": "display_data",
          "data": {
            "image/png": "[encoded data removed]",
            "text/plain": [
              "<Figure size 432x288 with 1 Axes>"
            ]
          },
          "metadata": {
            "needs_background": "light"
          }
        }
      ]
    },
    {
      "cell_type": "code",
      "metadata": {
        "colab": {
          "base_uri": "https://localhost:8080/",
          "height": 384
        },
        "id": "UEHdC5mDs3Mr",
        "outputId": "8b7424cf-2dc2-4976-914e-44b13eb1b213"
      },
      "source": [
        "## As we unable to judge from the above graph we will now apply log transfrom and \n",
        "## see how will be the trend\n",
        "data['log_distance'] = np.log(data.distance)\n",
        "data['log_trip_duration_hour'] = np.log(data.trip_duration_hour)\n",
        "\n",
        "sns.scatterplot(data.log_distance, data.log_trip_duration_hour)\n",
        "\n",
        "## We can clearly see that log of trip duration hour value above 2 is not \n",
        "## following any trend when compare to its value below \n",
        "## here we can drop those records"
      ],
      "execution_count": 132,
      "outputs": [
        {
          "output_type": "stream",
          "name": "stderr",
          "text": [
            "/usr/local/lib/python3.7/dist-packages/pandas/core/series.py:726: RuntimeWarning: divide by zero encountered in log\n",
            "  result = getattr(ufunc, method)(*inputs, **kwargs)\n",
            "/usr/local/lib/python3.7/dist-packages/seaborn/_decorators.py:43: FutureWarning: Pass the following variables as keyword args: x, y. From version 0.12, the only valid positional argument will be `data`, and passing other arguments without an explicit keyword will result in an error or misinterpretation.\n",
            "  FutureWarning\n"
          ]
        },
        {
          "output_type": "execute_result",
          "data": {
            "text/plain": [
              "<matplotlib.axes._subplots.AxesSubplot at 0x7fe0682ac710>"
            ]
          },
          "metadata": {},
          "execution_count": 132
        },
        {
          "output_type": "display_data",
          "data": {
            "image/png": "[encoded data removed]",
            "text/plain": [
              "<Figure size 432x288 with 1 Axes>"
            ]
          },
          "metadata": {
            "needs_background": "light"
          }
        }
      ]
    },
    {
      "cell_type": "code",
      "metadata": {
        "colab": {
          "base_uri": "https://localhost:8080/"
        },
        "id": "kLWKMVkIw-WZ",
        "outputId": "3f37aeaf-d4e8-4600-939f-be50aed45e5f"
      },
      "source": [
        "## Dropping feature as discussed above\n",
        "\n",
        "data = data[data['log_trip_duration_hour']<2]\n",
        "data.shape"
      ],
      "execution_count": 133,
      "outputs": [
        {
          "output_type": "execute_result",
          "data": {
            "text/plain": [
              "(1456567, 20)"
            ]
          },
          "metadata": {},
          "execution_count": 133
        }
      ]
    },
    {
      "cell_type": "code",
      "metadata": {
        "colab": {
          "base_uri": "https://localhost:8080/"
        },
        "id": "8mBmaetdxULc",
        "outputId": "8dd9e0c3-169a-4c36-f36e-2d6c315c46fc"
      },
      "source": [
        "## we have extracted so many columns lets have a look at it\n",
        "\n",
        "data.columns"
      ],
      "execution_count": 134,
      "outputs": [
        {
          "output_type": "execute_result",
          "data": {
            "text/plain": [
              "Index(['id', 'vendor_id', 'pickup_datetime', 'dropoff_datetime',\n",
              "       'passenger_count', 'pickup_longitude', 'pickup_latitude',\n",
              "       'dropoff_longitude', 'dropoff_latitude', 'store_and_fwd_flag',\n",
              "       'trip_duration', 'trip_duration_hour', 'pickup_day', 'dropoff_day',\n",
              "       'pickup_month', 'dropoff_month', 'distance', 'speed', 'log_distance',\n",
              "       'log_trip_duration_hour'],\n",
              "      dtype='object')"
            ]
          },
          "metadata": {},
          "execution_count": 134
        }
      ]
    },
    {
      "cell_type": "code",
      "metadata": {
        "colab": {
          "base_uri": "https://localhost:8080/",
          "height": 203
        },
        "id": "085kC2AWyhDT",
        "outputId": "ce7ac2e3-6bc6-4d59-aa94-3925113dff4a"
      },
      "source": [
        "## Here we have so many features, \n",
        "##in order to simplify our dataframe we will leaves some features\n",
        "req_columns = ['passenger_count','store_and_fwd_flag','trip_duration', 'pickup_day', 'dropoff_day', 'pickup_month',\n",
        "   'dropoff_month','speed','log_distance','distance']\n",
        "\n",
        "data_new = data[req_columns]\n",
        "data_new.head(5)"
      ],
      "execution_count": 135,
      "outputs": [
        {
          "output_type": "execute_result",
          "data": {
            "text/html": [
              "<div>\n",
              "<style scoped>\n",
              "    .dataframe tbody tr th:only-of-type {\n",
              "        vertical-align: middle;\n",
              "    }\n",
              "\n",
              "    .dataframe tbody tr th {\n",
              "        vertical-align: top;\n",
              "    }\n",
              "\n",
              "    .dataframe thead th {\n",
              "        text-align: right;\n",
              "    }\n",
              "</style>\n",
              "<table border=\"1\" class=\"dataframe\">\n",
              "  <thead>\n",
              "    <tr style=\"text-align: right;\">\n",
              "      <th></th>\n",
              "      <th>passenger_count</th>\n",
              "      <th>store_and_fwd_flag</th>\n",
              "      <th>trip_duration</th>\n",
              "      <th>pickup_day</th>\n",
              "      <th>dropoff_day</th>\n",
              "      <th>pickup_month</th>\n",
              "      <th>dropoff_month</th>\n",
              "      <th>speed</th>\n",
              "      <th>log_distance</th>\n",
              "      <th>distance</th>\n",
              "    </tr>\n",
              "  </thead>\n",
              "  <tbody>\n",
              "    <tr>\n",
              "      <th>0</th>\n",
              "      <td>1</td>\n",
              "      <td>N</td>\n",
              "      <td>455</td>\n",
              "      <td>Monday</td>\n",
              "      <td>Monday</td>\n",
              "      <td>3</td>\n",
              "      <td>3</td>\n",
              "      <td>7.363045</td>\n",
              "      <td>-0.071918</td>\n",
              "      <td>0.930607</td>\n",
              "    </tr>\n",
              "    <tr>\n",
              "      <th>1</th>\n",
              "      <td>1</td>\n",
              "      <td>N</td>\n",
              "      <td>663</td>\n",
              "      <td>Sunday</td>\n",
              "      <td>Sunday</td>\n",
              "      <td>6</td>\n",
              "      <td>6</td>\n",
              "      <td>6.088240</td>\n",
              "      <td>0.114445</td>\n",
              "      <td>1.121251</td>\n",
              "    </tr>\n",
              "    <tr>\n",
              "      <th>2</th>\n",
              "      <td>1</td>\n",
              "      <td>N</td>\n",
              "      <td>2124</td>\n",
              "      <td>Tuesday</td>\n",
              "      <td>Tuesday</td>\n",
              "      <td>1</td>\n",
              "      <td>1</td>\n",
              "      <td>6.720772</td>\n",
              "      <td>1.377570</td>\n",
              "      <td>3.965255</td>\n",
              "    </tr>\n",
              "    <tr>\n",
              "      <th>3</th>\n",
              "      <td>1</td>\n",
              "      <td>N</td>\n",
              "      <td>429</td>\n",
              "      <td>Wednesday</td>\n",
              "      <td>Wednesday</td>\n",
              "      <td>4</td>\n",
              "      <td>4</td>\n",
              "      <td>7.741426</td>\n",
              "      <td>-0.080646</td>\n",
              "      <td>0.922520</td>\n",
              "    </tr>\n",
              "    <tr>\n",
              "      <th>4</th>\n",
              "      <td>1</td>\n",
              "      <td>N</td>\n",
              "      <td>435</td>\n",
              "      <td>Saturday</td>\n",
              "      <td>Saturday</td>\n",
              "      <td>3</td>\n",
              "      <td>3</td>\n",
              "      <td>6.108693</td>\n",
              "      <td>-0.303630</td>\n",
              "      <td>0.738134</td>\n",
              "    </tr>\n",
              "  </tbody>\n",
              "</table>\n",
              "</div>"
            ],
            "text/plain": [
              "   passenger_count store_and_fwd_flag  ...  log_distance  distance\n",
              "0                1                  N  ...     -0.071918  0.930607\n",
              "1                1                  N  ...      0.114445  1.121251\n",
              "2                1                  N  ...      1.377570  3.965255\n",
              "3                1                  N  ...     -0.080646  0.922520\n",
              "4                1                  N  ...     -0.303630  0.738134\n",
              "\n",
              "[5 rows x 10 columns]"
            ]
          },
          "metadata": {},
          "execution_count": 135
        }
      ]
    },
    {
      "cell_type": "code",
      "metadata": {
        "id": "YIGDOzqwJnJm",
        "colab": {
          "base_uri": "https://localhost:8080/",
          "height": 437
        },
        "outputId": "929982e0-333d-4fb5-cb1f-c6280878df3c"
      },
      "source": [
        "## we will transform categorical data using one hot encoding\n",
        "\n",
        "data_new1=pd.get_dummies(data_new,columns=['store_and_fwd_flag','pickup_day',\n",
        "                                          'dropoff_day','pickup_month',\n",
        "                                          'dropoff_month'])\n",
        "data_new1"
      ],
      "execution_count": 136,
      "outputs": [
        {
          "output_type": "execute_result",
          "data": {
            "text/html": [
              "<div>\n",
              "<style scoped>\n",
              "    .dataframe tbody tr th:only-of-type {\n",
              "        vertical-align: middle;\n",
              "    }\n",
              "\n",
              "    .dataframe tbody tr th {\n",
              "        vertical-align: top;\n",
              "    }\n",
              "\n",
              "    .dataframe thead th {\n",
              "        text-align: right;\n",
              "    }\n",
              "</style>\n",
              "<table border=\"1\" class=\"dataframe\">\n",
              "  <thead>\n",
              "    <tr style=\"text-align: right;\">\n",
              "      <th></th>\n",
              "      <th>passenger_count</th>\n",
              "      <th>trip_duration</th>\n",
              "      <th>speed</th>\n",
              "      <th>log_distance</th>\n",
              "      <th>distance</th>\n",
              "      <th>store_and_fwd_flag_N</th>\n",
              "      <th>store_and_fwd_flag_Y</th>\n",
              "      <th>pickup_day_Friday</th>\n",
              "      <th>pickup_day_Monday</th>\n",
              "      <th>pickup_day_Saturday</th>\n",
              "      <th>pickup_day_Sunday</th>\n",
              "      <th>pickup_day_Thursday</th>\n",
              "      <th>pickup_day_Tuesday</th>\n",
              "      <th>pickup_day_Wednesday</th>\n",
              "      <th>dropoff_day_Friday</th>\n",
              "      <th>dropoff_day_Monday</th>\n",
              "      <th>dropoff_day_Saturday</th>\n",
              "      <th>dropoff_day_Sunday</th>\n",
              "      <th>dropoff_day_Thursday</th>\n",
              "      <th>dropoff_day_Tuesday</th>\n",
              "      <th>dropoff_day_Wednesday</th>\n",
              "      <th>pickup_month_1</th>\n",
              "      <th>pickup_month_2</th>\n",
              "      <th>pickup_month_3</th>\n",
              "      <th>pickup_month_4</th>\n",
              "      <th>pickup_month_5</th>\n",
              "      <th>pickup_month_6</th>\n",
              "      <th>dropoff_month_1</th>\n",
              "      <th>dropoff_month_2</th>\n",
              "      <th>dropoff_month_3</th>\n",
              "      <th>dropoff_month_4</th>\n",
              "      <th>dropoff_month_5</th>\n",
              "      <th>dropoff_month_6</th>\n",
              "      <th>dropoff_month_7</th>\n",
              "    </tr>\n",
              "  </thead>\n",
              "  <tbody>\n",
              "    <tr>\n",
              "      <th>0</th>\n",
              "      <td>1</td>\n",
              "      <td>455</td>\n",
              "      <td>7.363045</td>\n",
              "      <td>-0.071918</td>\n",
              "      <td>0.930607</td>\n",
              "      <td>1</td>\n",
              "      <td>0</td>\n",
              "      <td>0</td>\n",
              "      <td>1</td>\n",
              "      <td>0</td>\n",
              "      <td>0</td>\n",
              "      <td>0</td>\n",
              "      <td>0</td>\n",
              "      <td>0</td>\n",
              "      <td>0</td>\n",
              "      <td>1</td>\n",
              "      <td>0</td>\n",
              "      <td>0</td>\n",
              "      <td>0</td>\n",
              "      <td>0</td>\n",
              "      <td>0</td>\n",
              "      <td>0</td>\n",
              "      <td>0</td>\n",
              "      <td>1</td>\n",
              "      <td>0</td>\n",
              "      <td>0</td>\n",
              "      <td>0</td>\n",
              "      <td>0</td>\n",
              "      <td>0</td>\n",
              "      <td>1</td>\n",
              "      <td>0</td>\n",
              "      <td>0</td>\n",
              "      <td>0</td>\n",
              "      <td>0</td>\n",
              "    </tr>\n",
              "    <tr>\n",
              "      <th>1</th>\n",
              "      <td>1</td>\n",
              "      <td>663</td>\n",
              "      <td>6.088240</td>\n",
              "      <td>0.114445</td>\n",
              "      <td>1.121251</td>\n",
              "      <td>1</td>\n",
              "      <td>0</td>\n",
              "      <td>0</td>\n",
              "      <td>0</td>\n",
              "      <td>0</td>\n",
              "      <td>1</td>\n",
              "      <td>0</td>\n",
              "      <td>0</td>\n",
              "      <td>0</td>\n",
              "      <td>0</td>\n",
              "      <td>0</td>\n",
              "      <td>0</td>\n",
              "      <td>1</td>\n",
              "      <td>0</td>\n",
              "      <td>0</td>\n",
              "      <td>0</td>\n",
              "      <td>0</td>\n",
              "      <td>0</td>\n",
              "      <td>0</td>\n",
              "      <td>0</td>\n",
              "      <td>0</td>\n",
              "      <td>1</td>\n",
              "      <td>0</td>\n",
              "      <td>0</td>\n",
              "      <td>0</td>\n",
              "      <td>0</td>\n",
              "      <td>0</td>\n",
              "      <td>1</td>\n",
              "      <td>0</td>\n",
              "    </tr>\n",
              "    <tr>\n",
              "      <th>2</th>\n",
              "      <td>1</td>\n",
              "      <td>2124</td>\n",
              "      <td>6.720772</td>\n",
              "      <td>1.377570</td>\n",
              "      <td>3.965255</td>\n",
              "      <td>1</td>\n",
              "      <td>0</td>\n",
              "      <td>0</td>\n",
              "      <td>0</td>\n",
              "      <td>0</td>\n",
              "      <td>0</td>\n",
              "      <td>0</td>\n",
              "      <td>1</td>\n",
              "      <td>0</td>\n",
              "      <td>0</td>\n",
              "      <td>0</td>\n",
              "      <td>0</td>\n",
              "      <td>0</td>\n",
              "      <td>0</td>\n",
              "      <td>1</td>\n",
              "      <td>0</td>\n",
              "      <td>1</td>\n",
              "      <td>0</td>\n",
              "      <td>0</td>\n",
              "      <td>0</td>\n",
              "      <td>0</td>\n",
              "      <td>0</td>\n",
              "      <td>1</td>\n",
              "      <td>0</td>\n",
              "      <td>0</td>\n",
              "      <td>0</td>\n",
              "      <td>0</td>\n",
              "      <td>0</td>\n",
              "      <td>0</td>\n",
              "    </tr>\n",
              "    <tr>\n",
              "      <th>3</th>\n",
              "      <td>1</td>\n",
              "      <td>429</td>\n",
              "      <td>7.741426</td>\n",
              "      <td>-0.080646</td>\n",
              "      <td>0.922520</td>\n",
              "      <td>1</td>\n",
              "      <td>0</td>\n",
              "      <td>0</td>\n",
              "      <td>0</td>\n",
              "      <td>0</td>\n",
              "      <td>0</td>\n",
              "      <td>0</td>\n",
              "      <td>0</td>\n",
              "      <td>1</td>\n",
              "      <td>0</td>\n",
              "      <td>0</td>\n",
              "      <td>0</td>\n",
              "      <td>0</td>\n",
              "      <td>0</td>\n",
              "      <td>0</td>\n",
              "      <td>1</td>\n",
              "      <td>0</td>\n",
              "      <td>0</td>\n",
              "      <td>0</td>\n",
              "      <td>1</td>\n",
              "      <td>0</td>\n",
              "      <td>0</td>\n",
              "      <td>0</td>\n",
              "      <td>0</td>\n",
              "      <td>0</td>\n",
              "      <td>1</td>\n",
              "      <td>0</td>\n",
              "      <td>0</td>\n",
              "      <td>0</td>\n",
              "    </tr>\n",
              "    <tr>\n",
              "      <th>4</th>\n",
              "      <td>1</td>\n",
              "      <td>435</td>\n",
              "      <td>6.108693</td>\n",
              "      <td>-0.303630</td>\n",
              "      <td>0.738134</td>\n",
              "      <td>1</td>\n",
              "      <td>0</td>\n",
              "      <td>0</td>\n",
              "      <td>0</td>\n",
              "      <td>1</td>\n",
              "      <td>0</td>\n",
              "      <td>0</td>\n",
              "      <td>0</td>\n",
              "      <td>0</td>\n",
              "      <td>0</td>\n",
              "      <td>0</td>\n",
              "      <td>1</td>\n",
              "      <td>0</td>\n",
              "      <td>0</td>\n",
              "      <td>0</td>\n",
              "      <td>0</td>\n",
              "      <td>0</td>\n",
              "      <td>0</td>\n",
              "      <td>1</td>\n",
              "      <td>0</td>\n",
              "      <td>0</td>\n",
              "      <td>0</td>\n",
              "      <td>0</td>\n",
              "      <td>0</td>\n",
              "      <td>1</td>\n",
              "      <td>0</td>\n",
              "      <td>0</td>\n",
              "      <td>0</td>\n",
              "      <td>0</td>\n",
              "    </tr>\n",
              "    <tr>\n",
              "      <th>...</th>\n",
              "      <td>...</td>\n",
              "      <td>...</td>\n",
              "      <td>...</td>\n",
              "      <td>...</td>\n",
              "      <td>...</td>\n",
              "      <td>...</td>\n",
              "      <td>...</td>\n",
              "      <td>...</td>\n",
              "      <td>...</td>\n",
              "      <td>...</td>\n",
              "      <td>...</td>\n",
              "      <td>...</td>\n",
              "      <td>...</td>\n",
              "      <td>...</td>\n",
              "      <td>...</td>\n",
              "      <td>...</td>\n",
              "      <td>...</td>\n",
              "      <td>...</td>\n",
              "      <td>...</td>\n",
              "      <td>...</td>\n",
              "      <td>...</td>\n",
              "      <td>...</td>\n",
              "      <td>...</td>\n",
              "      <td>...</td>\n",
              "      <td>...</td>\n",
              "      <td>...</td>\n",
              "      <td>...</td>\n",
              "      <td>...</td>\n",
              "      <td>...</td>\n",
              "      <td>...</td>\n",
              "      <td>...</td>\n",
              "      <td>...</td>\n",
              "      <td>...</td>\n",
              "      <td>...</td>\n",
              "    </tr>\n",
              "    <tr>\n",
              "      <th>1458639</th>\n",
              "      <td>4</td>\n",
              "      <td>778</td>\n",
              "      <td>3.520391</td>\n",
              "      <td>-0.273390</td>\n",
              "      <td>0.760796</td>\n",
              "      <td>1</td>\n",
              "      <td>0</td>\n",
              "      <td>1</td>\n",
              "      <td>0</td>\n",
              "      <td>0</td>\n",
              "      <td>0</td>\n",
              "      <td>0</td>\n",
              "      <td>0</td>\n",
              "      <td>0</td>\n",
              "      <td>1</td>\n",
              "      <td>0</td>\n",
              "      <td>0</td>\n",
              "      <td>0</td>\n",
              "      <td>0</td>\n",
              "      <td>0</td>\n",
              "      <td>0</td>\n",
              "      <td>0</td>\n",
              "      <td>0</td>\n",
              "      <td>0</td>\n",
              "      <td>1</td>\n",
              "      <td>0</td>\n",
              "      <td>0</td>\n",
              "      <td>0</td>\n",
              "      <td>0</td>\n",
              "      <td>0</td>\n",
              "      <td>1</td>\n",
              "      <td>0</td>\n",
              "      <td>0</td>\n",
              "      <td>0</td>\n",
              "    </tr>\n",
              "    <tr>\n",
              "      <th>1458640</th>\n",
              "      <td>1</td>\n",
              "      <td>655</td>\n",
              "      <td>20.649443</td>\n",
              "      <td>1.323634</td>\n",
              "      <td>3.757051</td>\n",
              "      <td>1</td>\n",
              "      <td>0</td>\n",
              "      <td>0</td>\n",
              "      <td>0</td>\n",
              "      <td>0</td>\n",
              "      <td>1</td>\n",
              "      <td>0</td>\n",
              "      <td>0</td>\n",
              "      <td>0</td>\n",
              "      <td>0</td>\n",
              "      <td>0</td>\n",
              "      <td>0</td>\n",
              "      <td>1</td>\n",
              "      <td>0</td>\n",
              "      <td>0</td>\n",
              "      <td>0</td>\n",
              "      <td>1</td>\n",
              "      <td>0</td>\n",
              "      <td>0</td>\n",
              "      <td>0</td>\n",
              "      <td>0</td>\n",
              "      <td>0</td>\n",
              "      <td>1</td>\n",
              "      <td>0</td>\n",
              "      <td>0</td>\n",
              "      <td>0</td>\n",
              "      <td>0</td>\n",
              "      <td>0</td>\n",
              "      <td>0</td>\n",
              "    </tr>\n",
              "    <tr>\n",
              "      <th>1458641</th>\n",
              "      <td>1</td>\n",
              "      <td>764</td>\n",
              "      <td>22.896820</td>\n",
              "      <td>1.580877</td>\n",
              "      <td>4.859214</td>\n",
              "      <td>1</td>\n",
              "      <td>0</td>\n",
              "      <td>1</td>\n",
              "      <td>0</td>\n",
              "      <td>0</td>\n",
              "      <td>0</td>\n",
              "      <td>0</td>\n",
              "      <td>0</td>\n",
              "      <td>0</td>\n",
              "      <td>1</td>\n",
              "      <td>0</td>\n",
              "      <td>0</td>\n",
              "      <td>0</td>\n",
              "      <td>0</td>\n",
              "      <td>0</td>\n",
              "      <td>0</td>\n",
              "      <td>0</td>\n",
              "      <td>0</td>\n",
              "      <td>0</td>\n",
              "      <td>1</td>\n",
              "      <td>0</td>\n",
              "      <td>0</td>\n",
              "      <td>0</td>\n",
              "      <td>0</td>\n",
              "      <td>0</td>\n",
              "      <td>1</td>\n",
              "      <td>0</td>\n",
              "      <td>0</td>\n",
              "      <td>0</td>\n",
              "    </tr>\n",
              "    <tr>\n",
              "      <th>1458642</th>\n",
              "      <td>1</td>\n",
              "      <td>373</td>\n",
              "      <td>6.548534</td>\n",
              "      <td>-0.387870</td>\n",
              "      <td>0.678501</td>\n",
              "      <td>1</td>\n",
              "      <td>0</td>\n",
              "      <td>0</td>\n",
              "      <td>0</td>\n",
              "      <td>0</td>\n",
              "      <td>0</td>\n",
              "      <td>0</td>\n",
              "      <td>1</td>\n",
              "      <td>0</td>\n",
              "      <td>0</td>\n",
              "      <td>0</td>\n",
              "      <td>0</td>\n",
              "      <td>0</td>\n",
              "      <td>0</td>\n",
              "      <td>1</td>\n",
              "      <td>0</td>\n",
              "      <td>1</td>\n",
              "      <td>0</td>\n",
              "      <td>0</td>\n",
              "      <td>0</td>\n",
              "      <td>0</td>\n",
              "      <td>0</td>\n",
              "      <td>1</td>\n",
              "      <td>0</td>\n",
              "      <td>0</td>\n",
              "      <td>0</td>\n",
              "      <td>0</td>\n",
              "      <td>0</td>\n",
              "      <td>0</td>\n",
              "    </tr>\n",
              "    <tr>\n",
              "      <th>1458643</th>\n",
              "      <td>1</td>\n",
              "      <td>198</td>\n",
              "      <td>12.804717</td>\n",
              "      <td>-0.350608</td>\n",
              "      <td>0.704259</td>\n",
              "      <td>1</td>\n",
              "      <td>0</td>\n",
              "      <td>0</td>\n",
              "      <td>0</td>\n",
              "      <td>0</td>\n",
              "      <td>0</td>\n",
              "      <td>0</td>\n",
              "      <td>1</td>\n",
              "      <td>0</td>\n",
              "      <td>0</td>\n",
              "      <td>0</td>\n",
              "      <td>0</td>\n",
              "      <td>0</td>\n",
              "      <td>0</td>\n",
              "      <td>1</td>\n",
              "      <td>0</td>\n",
              "      <td>0</td>\n",
              "      <td>0</td>\n",
              "      <td>0</td>\n",
              "      <td>1</td>\n",
              "      <td>0</td>\n",
              "      <td>0</td>\n",
              "      <td>0</td>\n",
              "      <td>0</td>\n",
              "      <td>0</td>\n",
              "      <td>1</td>\n",
              "      <td>0</td>\n",
              "      <td>0</td>\n",
              "      <td>0</td>\n",
              "    </tr>\n",
              "  </tbody>\n",
              "</table>\n",
              "<p>1456567 rows × 34 columns</p>\n",
              "</div>"
            ],
            "text/plain": [
              "         passenger_count  trip_duration  ...  dropoff_month_6  dropoff_month_7\n",
              "0                      1            455  ...                0                0\n",
              "1                      1            663  ...                1                0\n",
              "2                      1           2124  ...                0                0\n",
              "3                      1            429  ...                0                0\n",
              "4                      1            435  ...                0                0\n",
              "...                  ...            ...  ...              ...              ...\n",
              "1458639                4            778  ...                0                0\n",
              "1458640                1            655  ...                0                0\n",
              "1458641                1            764  ...                0                0\n",
              "1458642                1            373  ...                0                0\n",
              "1458643                1            198  ...                0                0\n",
              "\n",
              "[1456567 rows x 34 columns]"
            ]
          },
          "metadata": {},
          "execution_count": 136
        }
      ]
    },
    {
      "cell_type": "code",
      "metadata": {
        "colab": {
          "base_uri": "https://localhost:8080/",
          "height": 265
        },
        "id": "pW9zDexd4N7b",
        "outputId": "feb345f5-37e4-45e2-89ea-ac63c46222f2"
      },
      "source": [
        "data_new.corr()"
      ],
      "execution_count": 137,
      "outputs": [
        {
          "output_type": "execute_result",
          "data": {
            "text/html": [
              "<div>\n",
              "<style scoped>\n",
              "    .dataframe tbody tr th:only-of-type {\n",
              "        vertical-align: middle;\n",
              "    }\n",
              "\n",
              "    .dataframe tbody tr th {\n",
              "        vertical-align: top;\n",
              "    }\n",
              "\n",
              "    .dataframe thead th {\n",
              "        text-align: right;\n",
              "    }\n",
              "</style>\n",
              "<table border=\"1\" class=\"dataframe\">\n",
              "  <thead>\n",
              "    <tr style=\"text-align: right;\">\n",
              "      <th></th>\n",
              "      <th>passenger_count</th>\n",
              "      <th>trip_duration</th>\n",
              "      <th>pickup_month</th>\n",
              "      <th>dropoff_month</th>\n",
              "      <th>speed</th>\n",
              "      <th>log_distance</th>\n",
              "      <th>distance</th>\n",
              "    </tr>\n",
              "  </thead>\n",
              "  <tbody>\n",
              "    <tr>\n",
              "      <th>passenger_count</th>\n",
              "      <td>1.000000</td>\n",
              "      <td>0.014864</td>\n",
              "      <td>-0.002228</td>\n",
              "      <td>-0.002248</td>\n",
              "      <td>-0.000969</td>\n",
              "      <td>0.013507</td>\n",
              "      <td>0.010271</td>\n",
              "    </tr>\n",
              "    <tr>\n",
              "      <th>trip_duration</th>\n",
              "      <td>0.014864</td>\n",
              "      <td>1.000000</td>\n",
              "      <td>0.058687</td>\n",
              "      <td>0.058851</td>\n",
              "      <td>0.028756</td>\n",
              "      <td>0.698336</td>\n",
              "      <td>0.697775</td>\n",
              "    </tr>\n",
              "    <tr>\n",
              "      <th>pickup_month</th>\n",
              "      <td>-0.002228</td>\n",
              "      <td>0.058687</td>\n",
              "      <td>1.000000</td>\n",
              "      <td>0.999945</td>\n",
              "      <td>-0.016030</td>\n",
              "      <td>0.018178</td>\n",
              "      <td>0.015610</td>\n",
              "    </tr>\n",
              "    <tr>\n",
              "      <th>dropoff_month</th>\n",
              "      <td>-0.002248</td>\n",
              "      <td>0.058851</td>\n",
              "      <td>0.999945</td>\n",
              "      <td>1.000000</td>\n",
              "      <td>-0.015979</td>\n",
              "      <td>0.018336</td>\n",
              "      <td>0.015767</td>\n",
              "    </tr>\n",
              "    <tr>\n",
              "      <th>speed</th>\n",
              "      <td>-0.000969</td>\n",
              "      <td>0.028756</td>\n",
              "      <td>-0.016030</td>\n",
              "      <td>-0.015979</td>\n",
              "      <td>1.000000</td>\n",
              "      <td>0.278283</td>\n",
              "      <td>0.487037</td>\n",
              "    </tr>\n",
              "    <tr>\n",
              "      <th>log_distance</th>\n",
              "      <td>0.013507</td>\n",
              "      <td>0.698336</td>\n",
              "      <td>0.018178</td>\n",
              "      <td>0.018336</td>\n",
              "      <td>0.278283</td>\n",
              "      <td>1.000000</td>\n",
              "      <td>0.744007</td>\n",
              "    </tr>\n",
              "    <tr>\n",
              "      <th>distance</th>\n",
              "      <td>0.010271</td>\n",
              "      <td>0.697775</td>\n",
              "      <td>0.015610</td>\n",
              "      <td>0.015767</td>\n",
              "      <td>0.487037</td>\n",
              "      <td>0.744007</td>\n",
              "      <td>1.000000</td>\n",
              "    </tr>\n",
              "  </tbody>\n",
              "</table>\n",
              "</div>"
            ],
            "text/plain": [
              "                 passenger_count  trip_duration  ...  log_distance  distance\n",
              "passenger_count         1.000000       0.014864  ...      0.013507  0.010271\n",
              "trip_duration           0.014864       1.000000  ...      0.698336  0.697775\n",
              "pickup_month           -0.002228       0.058687  ...      0.018178  0.015610\n",
              "dropoff_month          -0.002248       0.058851  ...      0.018336  0.015767\n",
              "speed                  -0.000969       0.028756  ...      0.278283  0.487037\n",
              "log_distance            0.013507       0.698336  ...      1.000000  0.744007\n",
              "distance                0.010271       0.697775  ...      0.744007  1.000000\n",
              "\n",
              "[7 rows x 7 columns]"
            ]
          },
          "metadata": {},
          "execution_count": 137
        }
      ]
    },
    {
      "cell_type": "code",
      "metadata": {
        "id": "yrw0CyUn9vip"
      },
      "source": [
        "## spliting responsive and predictive features\n",
        "\n",
        "response = ['trip_duration']\n",
        "predictors = list(data_new1.columns)\n",
        "predictors.remove('trip_duration')"
      ],
      "execution_count": 138,
      "outputs": []
    },
    {
      "cell_type": "code",
      "metadata": {
        "id": "_wcyAIXxAKRu"
      },
      "source": [
        "data_predictors = data_new1[predictors]\n",
        "data_response = data_new1[response]"
      ],
      "execution_count": 139,
      "outputs": []
    },
    {
      "cell_type": "code",
      "metadata": {
        "id": "AD5UXKQK7uPF"
      },
      "source": [
        "## here we will split the dataframe into train and test in ratio 85/15\n",
        "\n",
        "from sklearn.model_selection import train_test_split\n",
        "\n",
        "X_train, X_test = train_test_split(data_new, test_size = 0.15, random_state = 0 )\n",
        "# X_train, X_test = train_test_split(data_predictors, test_size = 0.15, random_state = 0 )\n",
        "# y_train, y_test = train_test_split(data_response, test_size = 0.15, random_state = 0 )"
      ],
      "execution_count": 140,
      "outputs": []
    },
    {
      "cell_type": "code",
      "metadata": {
        "id": "H5f4nlx7CMxi"
      },
      "source": [
        "from sklearn.metrics import mean_squared_error\n"
      ],
      "execution_count": 141,
      "outputs": []
    },
    {
      "cell_type": "code",
      "metadata": {
        "colab": {
          "base_uri": "https://localhost:8080/"
        },
        "id": "dqmhkw1RCueg",
        "outputId": "207c6cbb-1ef1-4a33-fd2e-f174216186d5"
      },
      "source": [
        "## Mean prediction\n",
        "\n",
        "mean_pred = np.repeat(X_train['trip_duration'].mean(), len(X_test['trip_duration']))\n",
        "\n",
        "sqrt(mean_squared_error(X_test['trip_duration'], mean_pred))"
      ],
      "execution_count": 142,
      "outputs": [
        {
          "output_type": "execute_result",
          "data": {
            "text/plain": [
              "667.8763343973836"
            ]
          },
          "metadata": {},
          "execution_count": 142
        }
      ]
    }
  ]
}